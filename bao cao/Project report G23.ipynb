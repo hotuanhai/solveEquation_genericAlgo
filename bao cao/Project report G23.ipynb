{
 "cells": [
  {
   "cell_type": "markdown",
   "metadata": {},
   "source": [
    "# Báo cáo Project\n",
    "Lớp TTNT-147729, Nhóm G23"
   ]
  },
  {
   "cell_type": "markdown",
   "metadata": {},
   "source": [
    "## 1. Thông tin chung"
   ]
  },
  {
   "cell_type": "markdown",
   "metadata": {},
   "source": [
    "### Thành viên\n",
    "- Ngô Đức Quang Anh 20215259\n",
    "- Hồ Tuấn Hải 20210304\n",
    "- Đặng Nhật Duy 20210269\n",
    "- Nguyễn Hùng Cường 20215264"
   ]
  },
  {
   "cell_type": "markdown",
   "metadata": {},
   "source": [
    "### Lịch thực hiện\n",
    "- W25: Đăng ký nhóm (Đã đăng ký trên Teams 18/2)\n",
    "- W26: Đăng ký project (3/3)\n",
    "- W31: Tiến độ giữa kỳ (7/4)\n",
    "- W38: Hoàn thành project (26/5)\n",
    "- W39-41: thuyết trình"
   ]
  },
  {
   "cell_type": "markdown",
   "metadata": {},
   "source": [
    "## 2. Đăng ký Project"
   ]
  },
  {
   "cell_type": "markdown",
   "metadata": {},
   "source": [
    "### Bài toán\n",
    "Tìm nghiệm của biểu thức f(x)"
   ]
  },
  {
   "cell_type": "markdown",
   "metadata": {},
   "source": [
    "### Phương pháp\n",
    "Sử dụng thuật toán di truyền (GA)"
   ]
  },
  {
   "cell_type": "markdown",
   "metadata": {},
   "source": [
    "#### Các tham số tính toán\n",
    "- INF: hằng có giá trị 999\n",
    "- generation: số lượng thế hệ hiện tại\n",
    "- max_generation: số lượng thế hệ tối đa\n",
    "- population_size: số lượng cá thể ban đầu\n",
    "- new_population_size: số lượng cá thể tiếp theo\n",
    "- population: mảng chứa các cá thể\n",
    "- individual: cá thể đang được xét \n",
    "- solution: kết quả\n",
    "- best_fitness: giá trị fitness của kết quả tương ứng\n",
    "- solution_list: mảng chứa tất cả kết quả xuyên suốt thuật toán\n",
    "- best_fitness_list: mảng chứa tất cả giá trị fitness tương ứng\n",
    "- func_val: chứa các cặp solution dạng nhị phân và fitness tương ứng"
   ]
  },
  {
   "cell_type": "markdown",
   "metadata": {},
   "source": [
    "#### Bước 1: Khởi tạo quần thể\n",
    "- Khởi tạo quần thể 10000 cá thể ban đầu một cách ngẫu nhiên "
   ]
  },
  {
   "cell_type": "code",
   "execution_count": null,
   "metadata": {
    "vscode": {
     "languageId": "plaintext"
    }
   },
   "outputs": [],
   "source": [
    "def init_population(population_size):\n",
    "    population = []\n",
    "    for _ in range(population_size):\n",
    "        individual = ''.join(random.choice('01') for _ in range(32))\n",
    "        population.append(individual)\n",
    "    return population"
   ]
  },
  {
   "cell_type": "markdown",
   "metadata": {},
   "source": [
    "#### Bước 2: Chọn lọc ra các cá thể phù hợp\n"
   ]
  },
  {
   "cell_type": "markdown",
   "metadata": {},
   "source": [
    "##### Bước 2.1: Tính toán độ fitness của từng cá thể\n"
   ]
  },
  {
   "cell_type": "code",
   "execution_count": null,
   "metadata": {
    "vscode": {
     "languageId": "plaintext"
    }
   },
   "outputs": [],
   "source": [
    "        for individual in population:\n",
    "            fitness = func(ieee_to_decimal(individual), equation)\n",
    "            if fitness == INF:\n",
    "                return [INF], [INF]\n",
    "            func_val.append((individual, fitness))"
   ]
  },
  {
   "cell_type": "markdown",
   "metadata": {},
   "source": [
    "- Hàm chuyển từ nhị phân sang thập phân"
   ]
  },
  {
   "cell_type": "code",
   "execution_count": null,
   "metadata": {
    "vscode": {
     "languageId": "plaintext"
    }
   },
   "outputs": [],
   "source": [
    "def ieee_to_decimal(ieee_binary):\n",
    "    long_value = int(ieee_binary, 2)\n",
    "\n",
    "    sign = (long_value >> 31) & 1\n",
    "    exponent = (long_value >> 23) & 0xFF\n",
    "    fraction = long_value & 0x7FFFFF\n",
    "\n",
    "    bias = 127\n",
    "\n",
    "    actual_exponent = exponent - bias\n",
    "\n",
    "    fraction_value = 1.0\n",
    "    for i in range(22, -1, -1):\n",
    "        fraction_value += ((fraction >> i) & 1) * (2 ** (i - 23))\n",
    "\n",
    "    if exponent == 0 and fraction == 0:\n",
    "        result = 0.0\n",
    "    elif exponent == 255 and fraction == 0:\n",
    "        result = float('inf') if sign == 0 else float('-inf')\n",
    "    elif exponent == 255 and fraction != 0:\n",
    "        result = float('nan')\n",
    "    else:\n",
    "        result = ((-1) ** sign) * fraction_value * (2 ** actual_exponent)\n",
    "\n",
    "    return result"
   ]
  },
  {
   "cell_type": "markdown",
   "metadata": {},
   "source": [
    "- Hàm fitness chính là biểu thức cần tính toán"
   ]
  },
  {
   "cell_type": "code",
   "execution_count": null,
   "metadata": {
    "vscode": {
     "languageId": "plaintext"
    }
   },
   "outputs": [],
   "source": [
    "def func(x, equation):\n",
    "    try:\n",
    "        # Evaluate the equation using the input value of x\n",
    "        result = eval(equation)\n",
    "        # print(result)\n",
    "        return abs(result)  # Return the absolute value of the result\n",
    "    except:\n",
    "        # Handle any exceptions that occur during evaluation\n",
    "        return INF  # Return a high value to penalize invalid equations or inputs"
   ]
  },
  {
   "cell_type": "markdown",
   "metadata": {},
   "source": [
    "- Sắp xếp các cá thể theo độ fitness tăng dần"
   ]
  },
  {
   "cell_type": "code",
   "execution_count": null,
   "metadata": {
    "vscode": {
     "languageId": "plaintext"
    }
   },
   "outputs": [],
   "source": [
    "func_val.sort(key=lambda x: x[1])"
   ]
  },
  {
   "cell_type": "markdown",
   "metadata": {},
   "source": [
    "##### Bước 2.2: Chọn những cá thể tốt nhất sang thế hệ tiếp theo"
   ]
  },
  {
   "cell_type": "code",
   "execution_count": null,
   "metadata": {
    "vscode": {
     "languageId": "plaintext"
    }
   },
   "outputs": [],
   "source": [
    "new_population_size = population_size // 4\n",
    "        new_population = [x[0] for x in func_val[:new_population_size]]"
   ]
  },
  {
   "cell_type": "markdown",
   "metadata": {},
   "source": []
  },
  {
   "cell_type": "markdown",
   "metadata": {},
   "source": [
    "### Phân công\n",
    "- NV An:\n",
    "- NT Bình: \n",
    "- ... "
   ]
  },
  {
   "cell_type": "markdown",
   "metadata": {},
   "source": []
  }
 ],
 "metadata": {
  "language_info": {
   "name": "python"
  }
 },
 "nbformat": 4,
 "nbformat_minor": 2
}
